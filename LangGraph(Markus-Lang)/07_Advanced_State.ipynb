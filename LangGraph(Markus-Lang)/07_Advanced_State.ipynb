{
 "cells": [
  {
   "cell_type": "code",
   "execution_count": null,
   "metadata": {},
   "outputs": [],
   "source": [
    "from dotenv import load_dotenv\n",
    "\n",
    "load_dotenv()"
   ]
  },
  {
   "cell_type": "markdown",
   "metadata": {},
   "source": [
    "### Input & Output State"
   ]
  },
  {
   "cell_type": "code",
   "execution_count": null,
   "metadata": {},
   "outputs": [],
   "source": [
    "from langchain_openai import ChatOpenAI\n",
    "from langgraph.graph import END, START, StateGraph\n",
    "\n",
    "model = ChatOpenAI()"
   ]
  },
  {
   "cell_type": "code",
   "execution_count": null,
   "metadata": {},
   "outputs": [],
   "source": [
    "from typing import TypedDict\n",
    "\n",
    "\n",
    "class ChatMessages(TypedDict):\n",
    "    question: str\n",
    "    answer: str\n",
    "    llm_calls: int"
   ]
  },
  {
   "cell_type": "code",
   "execution_count": null,
   "metadata": {},
   "outputs": [],
   "source": [
    "def call_model(state: ChatMessages):\n",
    "    question = state[\"question\"]\n",
    "    llm_calls = state.get(\"llm_calls\", 0)\n",
    "    state[\"llm_calls\"] = llm_calls + 1\n",
    "    print(\"LLM_CALLS:\", state[\"llm_calls\"])\n",
    "    response = model.invoke(input=question)\n",
    "    state[\"answer\"] = response.content\n",
    "    return state"
   ]
  },
  {
   "cell_type": "code",
   "execution_count": null,
   "metadata": {},
   "outputs": [],
   "source": [
    "workflow = StateGraph(ChatMessages)\n",
    "\n",
    "workflow.add_edge(START, \"agent\")\n",
    "workflow.add_node(\"agent\", call_model)\n",
    "workflow.add_edge(\"agent\", END)\n",
    "\n",
    "graph = workflow.compile()"
   ]
  },
  {
   "cell_type": "code",
   "execution_count": null,
   "metadata": {},
   "outputs": [],
   "source": [
    "graph.invoke(input={\"question\": \"Whats the highest mountain in the world?\"})"
   ]
  },
  {
   "cell_type": "code",
   "execution_count": null,
   "metadata": {},
   "outputs": [],
   "source": [
    "from langgraph.graph import StateGraph, START, END\n",
    "from typing_extensions import TypedDict\n",
    "\n",
    "\n",
    "\"\"\"\n",
    "This section introduces an important concept: separating state into different categories:\n",
    "\n",
    "InputState: What goes into the graph\n",
    "PrivateState: Internal data used by the graph but not exposed\n",
    "OutputState: What comes out of the graph\n",
    "OverallState: Combines all three for internal use\n",
    "\"\"\"\n",
    "\n",
    "class InputState(TypedDict):\n",
    "    question: str\n",
    "\n",
    "\n",
    "class PrivateState(TypedDict):\n",
    "    llm_calls: int\n",
    "\n",
    "\n",
    "class OutputState(TypedDict):\n",
    "    answer: str\n",
    "\n",
    "\n",
    "class OverallState(InputState, PrivateState, OutputState):\n",
    "    pass"
   ]
  },
  {
   "cell_type": "code",
   "execution_count": null,
   "metadata": {},
   "outputs": [],
   "source": [
    "\"\"\"\n",
    "Now when compiling the graph, we specify:\n",
    "\n",
    "The complete state type (OverallState)\n",
    "The input state type (InputState)\n",
    "The output state type (OutputState)\n",
    "\n",
    "This ensures that the graph only accepts the input fields and only returns the output fields, even though internally it uses all the fields.\n",
    "\"\"\"\n",
    "workflow = StateGraph(OverallState, input=InputState, output=OutputState)\n",
    "\n",
    "workflow.add_edge(START, \"agent\")\n",
    "workflow.add_node(\"agent\", call_model)\n",
    "workflow.add_edge(\"agent\", END)\n",
    "\n",
    "graph = workflow.compile()"
   ]
  },
  {
   "cell_type": "code",
   "execution_count": null,
   "metadata": {},
   "outputs": [],
   "source": [
    "graph.invoke({\"question\": \"Whats the highest mountain in the world?\"})"
   ]
  },
  {
   "cell_type": "markdown",
   "metadata": {},
   "source": [
    "### Add runtime configuration"
   ]
  },
  {
   "cell_type": "code",
   "execution_count": null,
   "metadata": {},
   "outputs": [],
   "source": [
    "from langgraph.graph import StateGraph, START, END\n",
    "from langchain_core.runnables.config import RunnableConfig\n",
    "from langchain.schema import SystemMessage, HumanMessage\n",
    "\n",
    "\"\"\"\n",
    "This new version of call_model adds a config parameter that allows for runtime configuration. In this case, it uses the config to get a language preference and creates a system message telling the model to respond in that language.\n",
    "\"\"\"\n",
    "def call_model(state: OverallState, config: RunnableConfig):\n",
    "    language = config[\"configurable\"].get(\"language\", \"English\")\n",
    "    system_message_content = f\"Respond in {language}\"\n",
    "    system_message = SystemMessage(content=system_message_content)\n",
    "    messages = [system_message, HumanMessage(content=state[\"question\"])]\n",
    "    response = model.invoke(messages)\n",
    "    return {\"answer\": response}"
   ]
  },
  {
   "cell_type": "code",
   "execution_count": null,
   "metadata": {},
   "outputs": [],
   "source": [
    "\"\"\"\n",
    "The graph setup is the same, but the node function now can use the config parameter.\n",
    "\"\"\"\n",
    "workflow = StateGraph(ChatMessages)\n",
    "\n",
    "workflow.add_edge(START, \"agent\")\n",
    "workflow.add_node(\"agent\", call_model)\n",
    "workflow.add_edge(\"agent\", END)\n",
    "\n",
    "graph = workflow.compile()"
   ]
  },
  {
   "cell_type": "code",
   "execution_count": null,
   "metadata": {},
   "outputs": [],
   "source": [
    "\n",
    "\"\"\"\n",
    "Now when invoking the graph, we pass a configuration object that specifies the desired language. This allows the same graph to behave differently based on the configuration.\n",
    "\"\"\"\n",
    "config = {\"configurable\": {\"language\": \"Spanish\"}}\n",
    "graph.invoke({\"question\": \"What's the highest mountain in the world?\"}, config=config)"
   ]
  },
  {
   "cell_type": "code",
   "execution_count": null,
   "metadata": {},
   "outputs": [],
   "source": [
    "config = {\"configurable\": {\"language\": \"German\"}}\n",
    "graph.invoke({\"question\": \"What's the highest mountain in the world?\"}, config=config)\n",
    "\n",
    "\"\"\"\n",
    "Why Use Runtime Configuration?\n",
    "You're correct that both approaches will achieve the same result of having the LLM respond in the desired language. However, there are a few reasons why the runtime configuration approach might be preferred:\n",
    "\n",
    "Separation of Concerns: The configuration approach separates the \"what\" (the graph structure) from the \"how\" (specific parameters). Your graph structure stays the same, but its behavior can be modified.\n",
    "External Control: With runtime configuration, the language choice can be made by the caller of the graph rather than being hardcoded or requiring changes to the graph itself.\n",
    "Reusability: The same graph can be reused for different languages without having to rebuild it. You just invoke it with different configurations.\n",
    "Consistency with Other Parameters: In more complex applications, you might have many configurable parameters. Using the config object provides a consistent way to handle all of them.\n",
    "Thread Management: In a real application, the config object often carries other important information like thread IDs for conversation management, as seen in other notebooks.\n",
    "\"\"\""
   ]
  }
 ],
 "metadata": {
  "kernelspec": {
   "display_name": ".venv",
   "language": "python",
   "name": "python3"
  },
  "language_info": {
   "codemirror_mode": {
    "name": "ipython",
    "version": 3
   },
   "file_extension": ".py",
   "mimetype": "text/x-python",
   "name": "python",
   "nbconvert_exporter": "python",
   "pygments_lexer": "ipython3",
   "version": "3.11.0"
  }
 },
 "nbformat": 4,
 "nbformat_minor": 2
}
