{
 "cells": [
  {
   "cell_type": "code",
   "execution_count": null,
   "metadata": {},
   "outputs": [],
   "source": [
    "from dotenv import load_dotenv\n",
    "\n",
    "load_dotenv()"
   ]
  },
  {
   "cell_type": "code",
   "execution_count": null,
   "metadata": {},
   "outputs": [],
   "source": [
    "from typing import Literal\n",
    "from langchain_core.messages import HumanMessage\n",
    "from langgraph.graph import END, START, StateGraph, MessagesState\n",
    "from langchain_openai import ChatOpenAI\n",
    "from langchain_core.tools import tool\n",
    "from langgraph.prebuilt import ToolNode\n",
    "\n",
    "\n",
    "# Define a tool for weather information\n",
    "@tool\n",
    "def get_weather(location: str):\n",
    "    \"\"\"Call to get the current weather.\"\"\"\n",
    "    if location.lower() in [\"munich\"]:\n",
    "        return \"It's 15 degrees Celsius and cloudy.\"\n",
    "    else:\n",
    "        return \"It's 32 degrees Celsius and sunny.\"\n",
    "\n",
    "\n",
    "tools = [get_weather]\n",
    "model = ChatOpenAI(model=\"gpt-4o-mini\").bind_tools(tools)\n",
    "\n",
    "\n",
    "def call_model(state: MessagesState):\n",
    "    messages = state[\"messages\"]\n",
    "    response = model.invoke(messages)\n",
    "    return {\"messages\": [response]}\n",
    "\n",
    "\n",
    "def should_continue(state: MessagesState) -> Literal[\"tools\", END]:\n",
    "    messages = state[\"messages\"]\n",
    "    last_message = messages[-1]\n",
    "    if last_message.tool_calls:\n",
    "        return \"tools\"\n",
    "    return END\n",
    "\n",
    "\n",
    "subgraph_workflow = StateGraph(MessagesState)\n",
    "tool_node = ToolNode(tools)\n",
    "\n",
    "subgraph_workflow.add_node(\"agent\", call_model)\n",
    "subgraph_workflow.add_node(\"tools\", tool_node)\n",
    "subgraph_workflow.add_conditional_edges(\"agent\", should_continue)\n",
    "subgraph_workflow.add_edge(\"tools\", \"agent\")\n",
    "subgraph_workflow.set_entry_point(\"agent\")\n",
    "\n",
    "subgraph = subgraph_workflow.compile()"
   ]
  },
  {
   "cell_type": "code",
   "execution_count": null,
   "metadata": {},
   "outputs": [],
   "source": [
    "from IPython.display import Image, display\n",
    "from langchain_core.runnables.graph import MermaidDrawMethod\n",
    "\n",
    "display(\n",
    "    Image(\n",
    "        subgraph.get_graph().draw_mermaid_png(\n",
    "            draw_method=MermaidDrawMethod.API,\n",
    "        )\n",
    "    )\n",
    ")"
   ]
  },
  {
   "cell_type": "code",
   "execution_count": null,
   "metadata": {},
   "outputs": [],
   "source": [
    "subgraph.invoke({\"messages\": [HumanMessage(content=\"How is the weather in Munich?\")]})"
   ]
  },
  {
   "cell_type": "code",
   "execution_count": null,
   "metadata": {},
   "outputs": [],
   "source": [
    "from typing import TypedDict\n",
    "from langgraph.graph import StateGraph\n",
    "\n",
    "\"\"\"\n",
    "This demonstrates the first way to use a subgraph:\n",
    "\n",
    "Create a main graph with the same state type as the subgraph\n",
    "Add the subgraph directly as a node\n",
    "Connect it to other nodes in the main graph\n",
    "Compile the main graph\n",
    "\"\"\"\n",
    "\n",
    "# Dummy start node implementation\n",
    "def start_node(state: MessagesState):\n",
    "    return state\n",
    "\n",
    "\n",
    "main_graph = StateGraph(MessagesState)\n",
    "main_graph.add_node(\"start\", start_node)\n",
    "main_graph.add_node(\"subgraph\", subgraph)\n",
    "main_graph.add_edge(START, \"start\")\n",
    "main_graph.add_edge(\"start\", \"subgraph\")\n",
    "\n",
    "graph = main_graph.compile()\n",
    "\n"
   ]
  },
  {
   "cell_type": "code",
   "execution_count": null,
   "metadata": {},
   "outputs": [],
   "source": [
    "\"\"\"\n",
    "We invoke the main graph with an initial message. The subgraphs=False parameter means we want to see the high-level output without details of what happened in the subgraph.\n",
    "\"\"\"\n",
    "\n",
    "initial_state = {\"messages\": [HumanMessage(content=\"What's the weather in Munich?\")]}\n",
    "result = graph.invoke(initial_state, subgraphs=False)"
   ]
  },
  {
   "cell_type": "code",
   "execution_count": null,
   "metadata": {},
   "outputs": [],
   "source": [
    "result"
   ]
  },
  {
   "cell_type": "code",
   "execution_count": null,
   "metadata": {},
   "outputs": [],
   "source": [
    "\"\"\"\n",
    "This shows the second approach to using subgraphs:\n",
    "\n",
    "Define a custom state type that may be different from the subgraph's state\n",
    "Create a function that manually invokes the subgraph, mapping between the states\n",
    "Add this function as a node in the main graph\n",
    "Compile the main graph\n",
    "\"\"\"\n",
    "\n",
    "class MessagesState(TypedDict):\n",
    "    parent_messages: list[str]\n",
    "\n",
    "\n",
    "def invoke_subgraph(state: MessagesState):\n",
    "    subgraph_output = subgraph.invoke({\"messages\": state[\"parent_messages\"]})\n",
    "    state[\"parent_messages\"] = subgraph_output[\"messages\"]\n",
    "    return state\n",
    "\n",
    "\n",
    "main_graph = StateGraph(MessagesState)\n",
    "main_graph.add_node(\"start\", start_node)\n",
    "main_graph.add_node(\"invoke_subgraph\", invoke_subgraph)\n",
    "main_graph.add_edge(START, \"start\")\n",
    "main_graph.add_edge(\"start\", \"invoke_subgraph\")\n",
    "\n",
    "\n",
    "graph = main_graph.compile()"
   ]
  },
  {
   "cell_type": "code",
   "execution_count": null,
   "metadata": {},
   "outputs": [],
   "source": [
    "\"\"\"\n",
    "Here we invoke the graph with the subgraphs=True parameter, indicating we want to see full details of the execution, including what happens inside subgraphs.\n",
    "\"\"\"\n",
    "initial_state = {\n",
    "    \"parent_messages\": [HumanMessage(content=\"What's the weather in Munich?\")]\n",
    "}\n",
    "result = graph.invoke(initial_state, subgraphs=True)"
   ]
  },
  {
   "cell_type": "code",
   "execution_count": null,
   "metadata": {},
   "outputs": [],
   "source": [
    "\"\"\"\n",
    "{\n",
    "    'parent_messages': [\n",
    "        HumanMessage(content=\"What's the weather in Munich?\"),\n",
    "        AIMessage(content=\"\", additional_kwargs={}, tool_calls=[{'name': 'get_weather', 'args': {'location': 'Munich'}, 'id': '...'}]),\n",
    "        ToolMessage(content=\"It's 15 degrees Celsius and cloudy.\", tool_call_id='...'),\n",
    "        AIMessage(content=\"The weather in Munich is currently 15 degrees Celsius and cloudy.\")\n",
    "    ],\n",
    "    'subgraph_executions': {\n",
    "        'invoke_subgraph': {\n",
    "            'messages': [\n",
    "                HumanMessage(content=\"What's the weather in Munich?\"),\n",
    "                AIMessage(content=\"\", tool_calls=[...]),\n",
    "                ToolMessage(content=\"It's 15 degrees Celsius and cloudy.\"),\n",
    "                AIMessage(content=\"The weather in Munich is currently 15 degrees Celsius and cloudy.\")\n",
    "            ],\n",
    "            'nodes_visited': ['agent', 'tools', 'agent']\n",
    "        }\n",
    "    }\n",
    "}\n",
    "\"\"\"\n",
    "\n",
    "result"
   ]
  }
 ],
 "metadata": {
  "kernelspec": {
   "display_name": ".venv",
   "language": "python",
   "name": "python3"
  },
  "language_info": {
   "codemirror_mode": {
    "name": "ipython",
    "version": 3
   },
   "file_extension": ".py",
   "mimetype": "text/x-python",
   "name": "python",
   "nbconvert_exporter": "python",
   "pygments_lexer": "ipython3",
   "version": "3.11.0"
  }
 },
 "nbformat": 4,
 "nbformat_minor": 2
}
