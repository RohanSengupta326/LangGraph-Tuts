{
 "cells": [
  {
   "cell_type": "code",
   "execution_count": 2,
   "metadata": {},
   "outputs": [
    {
     "data": {
      "text/plain": [
       "True"
      ]
     },
     "execution_count": 2,
     "metadata": {},
     "output_type": "execute_result"
    }
   ],
   "source": [
    "from dotenv import load_dotenv, find_dotenv\n",
    "\n",
    "load_dotenv(find_dotenv())"
   ]
  },
  {
   "cell_type": "code",
   "execution_count": 7,
   "metadata": {},
   "outputs": [],
   "source": [
    "# from langchain_openai import ChatOpenAI\n",
    "from langchain_ollama import ChatOllama\n",
    "\n",
    "\n",
    "llm = ChatOllama(model=\"mistral\", temperature=0)"
   ]
  },
  {
   "cell_type": "code",
   "execution_count": null,
   "metadata": {},
   "outputs": [],
   "source": [
    "llm.invoke(\"How will the weather be in munich today?\")"
   ]
  },
  {
   "cell_type": "code",
   "execution_count": 9,
   "metadata": {},
   "outputs": [],
   "source": [
    "from langchain_core.tools import tool\n",
    "\n",
    "\n",
    "@tool\n",
    "def get_weather(location: str):\n",
    "    \"\"\"Call to get the current weather.\"\"\"\n",
    "    if location.lower() in [\"munich\"]:\n",
    "        return \"It's 15 degrees Celsius and cloudy.\"\n",
    "    else:\n",
    "        return \"It's 32 degrees Celsius and sunny.\"\n",
    "\n",
    "\n",
    "@tool\n",
    "def check_seating_availability(location: str, seating_type: str):\n",
    "    \"\"\"Call to check seating availability.\"\"\"\n",
    "    if location.lower() == \"munich\" and seating_type.lower() == \"outdoor\":\n",
    "        return \"Yes, we still have seats available outdoors.\"\n",
    "    elif location.lower() == \"munich\" and seating_type.lower() == \"indoor\":\n",
    "        return \"Yes, we have indoor seating available.\"\n",
    "    else:\n",
    "        return \"Sorry, seating information for this location is unavailable.\"\n",
    "\n",
    "\n",
    "tools = [get_weather, check_seating_availability]"
   ]
  },
  {
   "cell_type": "code",
   "execution_count": 10,
   "metadata": {},
   "outputs": [],
   "source": [
    "llm_with_tools = llm.bind_tools(tools)"
   ]
  },
  {
   "cell_type": "code",
   "execution_count": 12,
   "metadata": {},
   "outputs": [
    {
     "data": {
      "text/plain": [
       "AIMessage(content='', additional_kwargs={}, response_metadata={'model': 'mistral', 'created_at': '2025-02-27T08:20:19.3091893Z', 'done': True, 'done_reason': 'stop', 'total_duration': 3570875900, 'load_duration': 10680600, 'prompt_eval_count': 151, 'prompt_eval_duration': 276000000, 'eval_count': 109, 'eval_duration': 3281000000, 'message': Message(role='assistant', content='', images=None, tool_calls=None)}, id='run-9363950b-6b93-49f7-8e7b-c96e14730810-0', tool_calls=[{'name': 'get_weather', 'args': {'location': 'munich'}, 'id': '6bd80c4f-551a-444d-9012-8674b932b6d4', 'type': 'tool_call'}], usage_metadata={'input_tokens': 151, 'output_tokens': 109, 'total_tokens': 260})"
      ]
     },
     "execution_count": 12,
     "metadata": {},
     "output_type": "execute_result"
    }
   ],
   "source": [
    "result = llm_with_tools.invoke(\"How will the weather be in munich today?\")\n",
    "result"
   ]
  },
  {
   "cell_type": "code",
   "execution_count": 13,
   "metadata": {},
   "outputs": [
    {
     "data": {
      "text/plain": [
       "[{'name': 'get_weather',\n",
       "  'args': {'location': 'munich'},\n",
       "  'id': '6bd80c4f-551a-444d-9012-8674b932b6d4',\n",
       "  'type': 'tool_call'}]"
      ]
     },
     "execution_count": 13,
     "metadata": {},
     "output_type": "execute_result"
    }
   ],
   "source": [
    "result.tool_calls"
   ]
  },
  {
   "cell_type": "code",
   "execution_count": null,
   "metadata": {},
   "outputs": [],
   "source": [
    "result = llm_with_tools.invoke(\n",
    "    \"How will the weather be in munich today? Do you still have seats outdoor available?\"\n",
    ")\n",
    "result"
   ]
  },
  {
   "cell_type": "code",
   "execution_count": null,
   "metadata": {},
   "outputs": [],
   "source": [
    "result.tool_calls"
   ]
  },
  {
   "cell_type": "code",
   "execution_count": 14,
   "metadata": {},
   "outputs": [],
   "source": [
    "from langchain_core.messages import HumanMessage, ToolMessage\n",
    "\n",
    "messages = [\n",
    "    HumanMessage(\n",
    "        \"How will the weather be in munich today? Do you still have seats outdoor available?\"\n",
    "    )\n",
    "]\n",
    "llm_output = llm_with_tools.invoke(messages)\n",
    "messages.append(llm_output)"
   ]
  },
  {
   "cell_type": "code",
   "execution_count": null,
   "metadata": {},
   "outputs": [],
   "source": [
    "messages"
   ]
  },
  {
   "cell_type": "code",
   "execution_count": 15,
   "metadata": {},
   "outputs": [],
   "source": [
    "tool_mapping = {\n",
    "    \"get_weather\": get_weather,\n",
    "    \"check_seating_availability\": check_seating_availability,\n",
    "}"
   ]
  },
  {
   "cell_type": "code",
   "execution_count": 16,
   "metadata": {},
   "outputs": [
    {
     "data": {
      "text/plain": [
       "[{'name': 'get_weather',\n",
       "  'args': {'location': 'Munich'},\n",
       "  'id': 'ad30590e-bb62-45e8-91f8-80ea2c0ac3e6',\n",
       "  'type': 'tool_call'},\n",
       " {'name': 'check_seating_availability',\n",
       "  'args': {'location': 'Munich', 'seating_type': 'outdoor'},\n",
       "  'id': '49b692b1-1ca7-4ff8-bfd6-f16939e44b7e',\n",
       "  'type': 'tool_call'},\n",
       " {'name': 'get_weather',\n",
       "  'args': {'location': 'Munich'},\n",
       "  'id': 'dc8023fb-ff0b-40f9-a1fb-93d91d9f11b2',\n",
       "  'type': 'tool_call'},\n",
       " {'name': 'check_seating_availability',\n",
       "  'args': {'location': 'Munich', 'seating_type': 'outdoor'},\n",
       "  'id': '6fe5a4cd-1f04-4818-8405-3b3d4f42f209',\n",
       "  'type': 'tool_call'}]"
      ]
     },
     "execution_count": 16,
     "metadata": {},
     "output_type": "execute_result"
    }
   ],
   "source": [
    "llm_output.tool_calls"
   ]
  },
  {
   "cell_type": "code",
   "execution_count": 17,
   "metadata": {},
   "outputs": [],
   "source": [
    "for tool_call in llm_output.tool_calls:\n",
    "    tool = tool_mapping[tool_call[\"name\"].lower()]\n",
    "    tool_output = tool.invoke(tool_call[\"args\"])\n",
    "    messages.append(ToolMessage(tool_output, tool_call_id=tool_call[\"id\"]))"
   ]
  },
  {
   "cell_type": "markdown",
   "metadata": {},
   "source": [
    "There are actually two ways to handle function calling with bind_tools in LangChain:\n",
    "\n",
    "🔹 1. LLM Generates Tool Calls, But You Manually Execute Them (Your Code)\n",
    "In your current implementation, the LLM only decides which tool to call and provides the parameters, but you still need to:\n",
    "\n",
    "Extract the tool call from llm_output.tool_calls\n",
    "Manually invoke the tool function\n",
    "Pass the tool’s result back to the LLM\n",
    "This means LangChain is not automatically executing the tool calls—you are.\n",
    "\n",
    "🔹 Why is this happening?\n",
    "\n",
    "The LLM only returns structured tool call requests in tool_calls (like a JSON output).\n",
    "But LangChain does not execute them for you unless you explicitly integrate an execution step.\n",
    "f\n",
    "\n",
    "🔹 2. Let LangChain Execute the Tools Automatically\n",
    "To make LangChain automatically execute the tools, use:\n",
    "\n",
    "llm_with_tools = llm.bind_tools(tools, auto_execute=True)"
   ]
  },
  {
   "cell_type": "code",
   "execution_count": null,
   "metadata": {},
   "outputs": [],
   "source": [
    "messages"
   ]
  },
  {
   "cell_type": "code",
   "execution_count": 18,
   "metadata": {},
   "outputs": [
    {
     "data": {
      "text/plain": [
       "AIMessage(content=\" It's currently 15 degrees Celsius and cloudy in Munich. We still have outdoor seating available. Enjoy your day!\", additional_kwargs={}, response_metadata={'model': 'mistral', 'created_at': '2025-02-27T08:21:04.6219109Z', 'done': True, 'done_reason': 'stop', 'total_duration': 1358507700, 'load_duration': 10425600, 'prompt_eval_count': 192, 'prompt_eval_duration': 307000000, 'eval_count': 31, 'eval_duration': 1006000000, 'message': Message(role='assistant', content=\" It's currently 15 degrees Celsius and cloudy in Munich. We still have outdoor seating available. Enjoy your day!\", images=None, tool_calls=None)}, id='run-0a65d694-5ff9-4a8b-b073-4bc8cebb6417-0', usage_metadata={'input_tokens': 192, 'output_tokens': 31, 'total_tokens': 223})"
      ]
     },
     "execution_count": 18,
     "metadata": {},
     "output_type": "execute_result"
    }
   ],
   "source": [
    "llm_with_tools.invoke(messages)"
   ]
  }
 ],
 "metadata": {
  "kernelspec": {
   "display_name": "LangGraph-Udemy-Course-YaRYGM21",
   "language": "python",
   "name": "python3"
  },
  "language_info": {
   "codemirror_mode": {
    "name": "ipython",
    "version": 3
   },
   "file_extension": ".py",
   "mimetype": "text/x-python",
   "name": "python",
   "nbconvert_exporter": "python",
   "pygments_lexer": "ipython3",
   "version": "3.12.8"
  }
 },
 "nbformat": 4,
 "nbformat_minor": 2
}
